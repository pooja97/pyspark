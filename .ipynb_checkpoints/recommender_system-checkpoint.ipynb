{
 "cells": [
  {
   "cell_type": "code",
   "execution_count": 1,
   "id": "23e826dd-0b9c-4a0f-a727-bd42224be801",
   "metadata": {},
   "outputs": [
    {
     "name": "stdout",
     "output_type": "stream",
     "text": [
      "Requirement already satisfied: pyspark in /Users/sheshmani/opt/anaconda3/lib/python3.9/site-packages (3.3.2)\n",
      "Requirement already satisfied: py4j==0.10.9.5 in /Users/sheshmani/opt/anaconda3/lib/python3.9/site-packages (from pyspark) (0.10.9.5)\n"
     ]
    }
   ],
   "source": [
    "!pip3 install pyspark"
   ]
  },
  {
   "cell_type": "code",
   "execution_count": 2,
   "id": "7097c496-54cb-4e74-8cc3-a9333dca047a",
   "metadata": {},
   "outputs": [
    {
     "name": "stdout",
     "output_type": "stream",
     "text": [
      "Requirement already satisfied: pip in /Users/sheshmani/opt/anaconda3/lib/python3.9/site-packages (23.0.1)\n"
     ]
    }
   ],
   "source": [
    "!pip install --upgrade pip"
   ]
  },
  {
   "cell_type": "code",
   "execution_count": 1,
   "id": "eaf3c27e-1ffa-46cb-bac6-c38e5b7c73e8",
   "metadata": {},
   "outputs": [],
   "source": [
    "#spark session and SQL imports\n",
    "\n",
    "import pyspark\n",
    "from pyspark.sql import SparkSession\n",
    "from pyspark.ml import Pipeline\n",
    "from pyspark.sql import SQLContext\n",
    "from pyspark.sql.functions import mean,col,when,lit,split,regexp_extract"
   ]
  },
  {
   "cell_type": "code",
   "execution_count": 2,
   "id": "307fa17d-791a-4dbe-a728-4298c64fc92d",
   "metadata": {},
   "outputs": [],
   "source": [
    "#SQL features and ml evaluation import\n",
    "\n",
    "from pyspark.ml.feature import StringIndexer, VectorIndexer\n",
    "from pyspark.ml.feature import QuantileDiscretizer\n",
    "from pyspark.ml.evaluation import MulticlassClassificationEvaluator"
   ]
  },
  {
   "cell_type": "markdown",
   "id": "f34ac77e-c76c-44c0-ba68-3eb7b4fa3e50",
   "metadata": {},
   "source": [
    "#### Creating Spark Session"
   ]
  },
  {
   "cell_type": "code",
   "execution_count": 3,
   "id": "53a57e15-753e-4fa4-af27-66c90809baba",
   "metadata": {},
   "outputs": [
    {
     "name": "stdout",
     "output_type": "stream",
     "text": [
      "23/02/20 11:42:46 WARN Utils: Your hostname, Poojas-MacBook-Air.local resolves to a loopback address: 127.0.0.1; using 10.130.201.5 instead (on interface en0)\n",
      "23/02/20 11:42:46 WARN Utils: Set SPARK_LOCAL_IP if you need to bind to another address\n"
     ]
    },
    {
     "name": "stderr",
     "output_type": "stream",
     "text": [
      "Setting default log level to \"WARN\".\n",
      "To adjust logging level use sc.setLogLevel(newLevel). For SparkR, use setLogLevel(newLevel).\n"
     ]
    },
    {
     "name": "stdout",
     "output_type": "stream",
     "text": [
      "23/02/20 11:42:47 WARN NativeCodeLoader: Unable to load native-hadoop library for your platform... using builtin-java classes where applicable\n"
     ]
    }
   ],
   "source": [
    "#Spark session creation\n",
    "spark = SparkSession.builder.appName('recommender_system').getOrCreate()"
   ]
  },
  {
   "cell_type": "code",
   "execution_count": 4,
   "id": "4bb36cd0-9f13-48b6-8a90-9d27618b6d30",
   "metadata": {},
   "outputs": [
    {
     "name": "stderr",
     "output_type": "stream",
     "text": [
      "                                                                                \r"
     ]
    }
   ],
   "source": [
    "#reading the data and displaying it in pandas table format\n",
    "\n",
    "df = spark.read.csv('movie_ratings_df.csv',inferSchema = True,header = True)"
   ]
  },
  {
   "cell_type": "markdown",
   "id": "cfffdd1c-a53e-42f4-afbd-7d1309f1194c",
   "metadata": {},
   "source": [
    "#### displaying data using limit & show methods in PySpark"
   ]
  },
  {
   "cell_type": "code",
   "execution_count": 5,
   "id": "ee7b2d81-60f3-42a1-8bdf-4c7a28fc90e5",
   "metadata": {},
   "outputs": [
    {
     "data": {
      "text/html": [
       "<div>\n",
       "<style scoped>\n",
       "    .dataframe tbody tr th:only-of-type {\n",
       "        vertical-align: middle;\n",
       "    }\n",
       "\n",
       "    .dataframe tbody tr th {\n",
       "        vertical-align: top;\n",
       "    }\n",
       "\n",
       "    .dataframe thead th {\n",
       "        text-align: right;\n",
       "    }\n",
       "</style>\n",
       "<table border=\"1\" class=\"dataframe\">\n",
       "  <thead>\n",
       "    <tr style=\"text-align: right;\">\n",
       "      <th></th>\n",
       "      <th>userId</th>\n",
       "      <th>title</th>\n",
       "      <th>rating</th>\n",
       "    </tr>\n",
       "  </thead>\n",
       "  <tbody>\n",
       "    <tr>\n",
       "      <th>0</th>\n",
       "      <td>196</td>\n",
       "      <td>Kolya (1996)</td>\n",
       "      <td>3</td>\n",
       "    </tr>\n",
       "    <tr>\n",
       "      <th>1</th>\n",
       "      <td>63</td>\n",
       "      <td>Kolya (1996)</td>\n",
       "      <td>3</td>\n",
       "    </tr>\n",
       "    <tr>\n",
       "      <th>2</th>\n",
       "      <td>226</td>\n",
       "      <td>Kolya (1996)</td>\n",
       "      <td>5</td>\n",
       "    </tr>\n",
       "    <tr>\n",
       "      <th>3</th>\n",
       "      <td>154</td>\n",
       "      <td>Kolya (1996)</td>\n",
       "      <td>3</td>\n",
       "    </tr>\n",
       "    <tr>\n",
       "      <th>4</th>\n",
       "      <td>306</td>\n",
       "      <td>Kolya (1996)</td>\n",
       "      <td>5</td>\n",
       "    </tr>\n",
       "  </tbody>\n",
       "</table>\n",
       "</div>"
      ],
      "text/plain": [
       "   userId         title  rating\n",
       "0     196  Kolya (1996)       3\n",
       "1      63  Kolya (1996)       3\n",
       "2     226  Kolya (1996)       5\n",
       "3     154  Kolya (1996)       3\n",
       "4     306  Kolya (1996)       5"
      ]
     },
     "execution_count": 5,
     "metadata": {},
     "output_type": "execute_result"
    }
   ],
   "source": [
    "df.limit(5).toPandas()"
   ]
  },
  {
   "cell_type": "code",
   "execution_count": 6,
   "id": "a38916bc-56dd-4674-a881-4ed3ec5ced6e",
   "metadata": {},
   "outputs": [
    {
     "name": "stdout",
     "output_type": "stream",
     "text": [
      "+------+------------+------+\n",
      "|userId|       title|rating|\n",
      "+------+------------+------+\n",
      "|   196|Kolya (1996)|     3|\n",
      "|    63|Kolya (1996)|     3|\n",
      "|   226|Kolya (1996)|     5|\n",
      "|   154|Kolya (1996)|     3|\n",
      "|   306|Kolya (1996)|     5|\n",
      "+------+------------+------+\n",
      "only showing top 5 rows\n",
      "\n"
     ]
    }
   ],
   "source": [
    "df.show(5)"
   ]
  },
  {
   "cell_type": "code",
   "execution_count": 7,
   "id": "0b04d245-1079-4fb5-8a35-c90b0d721a5f",
   "metadata": {},
   "outputs": [
    {
     "name": "stdout",
     "output_type": "stream",
     "text": [
      "-RECORD 0--------------\n",
      " userId | 196          \n",
      " title  | Kolya (1996) \n",
      " rating | 3            \n",
      "-RECORD 1--------------\n",
      " userId | 63           \n",
      " title  | Kolya (1996) \n",
      " rating | 3            \n",
      "-RECORD 2--------------\n",
      " userId | 226          \n",
      " title  | Kolya (1996) \n",
      " rating | 5            \n",
      "only showing top 3 rows\n",
      "\n"
     ]
    }
   ],
   "source": [
    "df.show(3,vertical = True)"
   ]
  },
  {
   "cell_type": "markdown",
   "id": "a2c5877b-9be8-4359-9d89-6f332602e420",
   "metadata": {},
   "source": [
    "### Goal: Given a user predict and return a list of movie recommendations for that user to watch"
   ]
  },
  {
   "cell_type": "code",
   "execution_count": 8,
   "id": "df01bcb1-bcb7-481e-9137-78f4feffd87d",
   "metadata": {},
   "outputs": [
    {
     "name": "stdout",
     "output_type": "stream",
     "text": [
      "root\n",
      " |-- userId: integer (nullable = true)\n",
      " |-- title: string (nullable = true)\n",
      " |-- rating: integer (nullable = true)\n",
      "\n"
     ]
    }
   ],
   "source": [
    "#printing the schema of the dataframe\n",
    "\n",
    "df.printSchema()"
   ]
  },
  {
   "cell_type": "markdown",
   "id": "079cd02f-0b43-4494-b449-9916fdb471cd",
   "metadata": {},
   "source": [
    "#### Since title is stored as a sting. To work with pyspark Mlib library, we need to convert string type to numeric values¶\n"
   ]
  },
  {
   "cell_type": "code",
   "execution_count": 9,
   "id": "deafe06a-3d51-4866-bcc7-eaef9f5e5b17",
   "metadata": {},
   "outputs": [],
   "source": [
    "from pyspark.ml.feature import IndexToString"
   ]
  },
  {
   "cell_type": "markdown",
   "id": "82683116-65fd-4425-a0a0-50502c7fe71c",
   "metadata": {},
   "source": [
    "#### creating a StringIndexer model"
   ]
  },
  {
   "cell_type": "code",
   "execution_count": 10,
   "id": "98bb85e3-e54e-432e-8c46-92e2a1acc06f",
   "metadata": {},
   "outputs": [],
   "source": [
    "stringIndex = StringIndexer(inputCol = 'title',outputCol = 'title_new_indexed')"
   ]
  },
  {
   "cell_type": "markdown",
   "id": "27160e4a-479d-4fc4-ae8c-5bbd2ac3c8a0",
   "metadata": {},
   "source": [
    "#### Fitting the string indexer model on a dataframe. fit() returns a transformer"
   ]
  },
  {
   "cell_type": "code",
   "execution_count": 11,
   "id": "d7f443f8-6145-4091-8df8-f4a1791243a8",
   "metadata": {},
   "outputs": [
    {
     "name": "stderr",
     "output_type": "stream",
     "text": [
      "                                                                                \r"
     ]
    }
   ],
   "source": [
    "model = stringIndex.fit(df)"
   ]
  },
  {
   "cell_type": "markdown",
   "id": "46d9169a-e61b-4334-82a7-ec1bbf1797ef",
   "metadata": {},
   "source": [
    "#### Using the returned transformer to transform the dataframe. It returns a new dataframe"
   ]
  },
  {
   "cell_type": "code",
   "execution_count": 12,
   "id": "cdb2da40-5f11-418d-9785-1c41ae389a31",
   "metadata": {},
   "outputs": [],
   "source": [
    "indexed_df = model.transform(df)"
   ]
  },
  {
   "cell_type": "markdown",
   "id": "f94390ba-332e-4166-b7af-7367d4679463",
   "metadata": {},
   "source": [
    "#### Displaying the first and last rows of the transformed dataframe"
   ]
  },
  {
   "cell_type": "code",
   "execution_count": 13,
   "id": "6d5c3c61-aac0-4e18-99a5-88dfc045ed3a",
   "metadata": {},
   "outputs": [
    {
     "data": {
      "text/plain": [
       "[Row(userId=655, title='Girls Town (1996)', rating=3, title_new_indexed=1568.0),\n",
       " Row(userId=655, title='Silence of the Palace, The (Saimt el Qusur) (1994)', rating=3, title_new_indexed=1628.0),\n",
       " Row(userId=655, title='Dadetown (1995)', rating=3, title_new_indexed=1549.0)]"
      ]
     },
     "execution_count": 13,
     "metadata": {},
     "output_type": "execute_result"
    }
   ],
   "source": [
    "indexed_df.tail(3)"
   ]
  },
  {
   "cell_type": "code",
   "execution_count": 14,
   "id": "f1d04788-aa43-44d6-ab0a-172814dc2c32",
   "metadata": {},
   "outputs": [
    {
     "data": {
      "text/plain": [
       "[Row(userId=196, title='Kolya (1996)', rating=3, title_new_indexed=287.0),\n",
       " Row(userId=63, title='Kolya (1996)', rating=3, title_new_indexed=287.0),\n",
       " Row(userId=226, title='Kolya (1996)', rating=5, title_new_indexed=287.0)]"
      ]
     },
     "execution_count": 14,
     "metadata": {},
     "output_type": "execute_result"
    }
   ],
   "source": [
    "indexed_df.head(3)"
   ]
  },
  {
   "cell_type": "markdown",
   "id": "6e3bb2fc-97fc-4556-b0d8-06eb7d534263",
   "metadata": {},
   "source": [
    "#### Splitting the data into train and test"
   ]
  },
  {
   "cell_type": "code",
   "execution_count": 15,
   "id": "045da5b0-d36e-448b-aada-2ce7c3c53641",
   "metadata": {},
   "outputs": [],
   "source": [
    "train,test = indexed_df.randomSplit([0.75,0.25])"
   ]
  },
  {
   "cell_type": "code",
   "execution_count": 16,
   "id": "dc44c154-7349-4929-b099-bd90d0153962",
   "metadata": {},
   "outputs": [],
   "source": [
    "from pyspark.ml.recommendation import ALS\n"
   ]
  },
  {
   "cell_type": "markdown",
   "id": "708f7b02-59b1-41cf-84f1-7d38627667d9",
   "metadata": {},
   "source": [
    "#### Creating an ALS model for recommender system"
   ]
  },
  {
   "cell_type": "code",
   "execution_count": 17,
   "id": "fbacd9c3-450e-490d-a79b-3e33b0087334",
   "metadata": {},
   "outputs": [],
   "source": [
    "als_model = ALS(maxIter =10, regParam = 0.01,userCol = 'userId',\n",
    "                itemCol = 'title_new_indexed',ratingCol = 'rating',\n",
    "                nonnegative = True,\n",
    "                coldStartStrategy = 'drop')"
   ]
  },
  {
   "cell_type": "markdown",
   "id": "86739871-8f24-4178-ba6e-1e4e92483eca",
   "metadata": {},
   "source": [
    "#### Training the model with the test data"
   ]
  },
  {
   "cell_type": "code",
   "execution_count": 18,
   "id": "2ba1bacd-a065-4751-9059-b9bd13ccb5f2",
   "metadata": {},
   "outputs": [
    {
     "name": "stderr",
     "output_type": "stream",
     "text": [
      "                                                                                \r"
     ]
    },
    {
     "name": "stdout",
     "output_type": "stream",
     "text": [
      "23/02/20 11:43:36 WARN InstanceBuilder$NativeBLAS: Failed to load implementation from:dev.ludovic.netlib.blas.JNIBLAS\n",
      "23/02/20 11:43:36 WARN InstanceBuilder$NativeBLAS: Failed to load implementation from:dev.ludovic.netlib.blas.ForeignLinkerBLAS\n"
     ]
    }
   ],
   "source": [
    "recommender = als_model.fit(train) #training the model using fit function"
   ]
  },
  {
   "cell_type": "markdown",
   "id": "3b36f687-924c-4089-8e46-69ba1908988f",
   "metadata": {},
   "source": [
    "#### Getting the predictions on the test data"
   ]
  },
  {
   "cell_type": "code",
   "execution_count": 19,
   "id": "59db6e00-1062-4d31-ae0e-21442878a2c9",
   "metadata": {},
   "outputs": [],
   "source": [
    "predictions = recommender.transform(test) #in PySpark instead of predict there's a transform function which does prediction"
   ]
  },
  {
   "cell_type": "code",
   "execution_count": 20,
   "id": "7bbfa874-97f1-4b0d-8604-f918e20e66e6",
   "metadata": {},
   "outputs": [
    {
     "name": "stderr",
     "output_type": "stream",
     "text": [
      "                                                                                \r"
     ]
    },
    {
     "data": {
      "text/html": [
       "<div>\n",
       "<style scoped>\n",
       "    .dataframe tbody tr th:only-of-type {\n",
       "        vertical-align: middle;\n",
       "    }\n",
       "\n",
       "    .dataframe tbody tr th {\n",
       "        vertical-align: top;\n",
       "    }\n",
       "\n",
       "    .dataframe thead th {\n",
       "        text-align: right;\n",
       "    }\n",
       "</style>\n",
       "<table border=\"1\" class=\"dataframe\">\n",
       "  <thead>\n",
       "    <tr style=\"text-align: right;\">\n",
       "      <th></th>\n",
       "      <th>userId</th>\n",
       "      <th>title</th>\n",
       "      <th>rating</th>\n",
       "      <th>title_new_indexed</th>\n",
       "      <th>prediction</th>\n",
       "    </tr>\n",
       "  </thead>\n",
       "  <tbody>\n",
       "    <tr>\n",
       "      <th>0</th>\n",
       "      <td>148</td>\n",
       "      <td>2001: A Space Odyssey (1968)</td>\n",
       "      <td>5</td>\n",
       "      <td>59.0</td>\n",
       "      <td>3.161632</td>\n",
       "    </tr>\n",
       "    <tr>\n",
       "      <th>1</th>\n",
       "      <td>148</td>\n",
       "      <td>Amadeus (1984)</td>\n",
       "      <td>1</td>\n",
       "      <td>50.0</td>\n",
       "      <td>3.644425</td>\n",
       "    </tr>\n",
       "    <tr>\n",
       "      <th>2</th>\n",
       "      <td>148</td>\n",
       "      <td>Being There (1979)</td>\n",
       "      <td>5</td>\n",
       "      <td>290.0</td>\n",
       "      <td>2.904923</td>\n",
       "    </tr>\n",
       "    <tr>\n",
       "      <th>3</th>\n",
       "      <td>148</td>\n",
       "      <td>Close Shave, A (1995)</td>\n",
       "      <td>5</td>\n",
       "      <td>302.0</td>\n",
       "      <td>4.215456</td>\n",
       "    </tr>\n",
       "    <tr>\n",
       "      <th>4</th>\n",
       "      <td>148</td>\n",
       "      <td>Cold Comfort Farm (1995)</td>\n",
       "      <td>5</td>\n",
       "      <td>262.0</td>\n",
       "      <td>4.560448</td>\n",
       "    </tr>\n",
       "  </tbody>\n",
       "</table>\n",
       "</div>"
      ],
      "text/plain": [
       "   userId                         title  rating  title_new_indexed  prediction\n",
       "0     148  2001: A Space Odyssey (1968)       5               59.0    3.161632\n",
       "1     148                Amadeus (1984)       1               50.0    3.644425\n",
       "2     148            Being There (1979)       5              290.0    2.904923\n",
       "3     148         Close Shave, A (1995)       5              302.0    4.215456\n",
       "4     148      Cold Comfort Farm (1995)       5              262.0    4.560448"
      ]
     },
     "execution_count": 20,
     "metadata": {},
     "output_type": "execute_result"
    }
   ],
   "source": [
    "predictions.limit(5).toPandas()"
   ]
  },
  {
   "cell_type": "markdown",
   "id": "926ecd5c-ec6c-4b94-8366-53fd545949c5",
   "metadata": {},
   "source": [
    "#### Calculating RMSE"
   ]
  },
  {
   "cell_type": "code",
   "execution_count": 21,
   "id": "b898d7c2-0dbe-42b0-bbe8-5eb6eb076aa6",
   "metadata": {},
   "outputs": [],
   "source": [
    "from pyspark.ml.evaluation import RegressionEvaluator"
   ]
  },
  {
   "cell_type": "code",
   "execution_count": 22,
   "id": "b4a1d7d5-1a0e-42e4-a1d6-3ccc0eca693c",
   "metadata": {},
   "outputs": [],
   "source": [
    "evaluator = RegressionEvaluator(metricName = 'rmse',predictionCol = 'prediction',labelCol = 'rating')"
   ]
  },
  {
   "cell_type": "code",
   "execution_count": 23,
   "id": "f9e44d71-abee-466d-a546-aa121c89ff0d",
   "metadata": {},
   "outputs": [
    {
     "name": "stderr",
     "output_type": "stream",
     "text": [
      "                                                                                \r"
     ]
    }
   ],
   "source": [
    "rmse = evaluator.evaluate(predictions)"
   ]
  },
  {
   "cell_type": "code",
   "execution_count": 24,
   "id": "0cdfc891-8714-4b25-a8d5-213bca7c823f",
   "metadata": {},
   "outputs": [
    {
     "data": {
      "text/plain": [
       "1.025680050443128"
      ]
     },
     "execution_count": 24,
     "metadata": {},
     "output_type": "execute_result"
    }
   ],
   "source": [
    "rmse"
   ]
  },
  {
   "cell_type": "markdown",
   "id": "eb81bfeb-ef7e-4109-ae71-385c64d82116",
   "metadata": {},
   "source": [
    "#### Reccomending movies"
   ]
  },
  {
   "cell_type": "markdown",
   "id": "51399a9f-44b2-40ae-8cf1-e89965063b29",
   "metadata": {},
   "source": [
    "##### Creating dataframe of movie names without repetation "
   ]
  },
  {
   "cell_type": "code",
   "execution_count": 25,
   "id": "65a493f0-0d1f-4c33-ac83-8eb07786e062",
   "metadata": {},
   "outputs": [],
   "source": [
    "unique_movies =  indexed_df.select('title_new_indexed').distinct()"
   ]
  },
  {
   "cell_type": "code",
   "execution_count": 47,
   "id": "c7fd6fed-b59c-4a68-b5bf-58b426fc2136",
   "metadata": {},
   "outputs": [],
   "source": [
    "# creating fucntion for recommending top n moviess for any particular user.\n",
    "\n",
    "def top_movies(user_id,n):\n",
    "    #aliasing the unique dataframe as 'a'\n",
    "    a = unique_movies.alias('a')\n",
    "    \n",
    "    #getting the titles of the movie which the specified user has already watched \n",
    "    watched_movies = indexed_df.filter(indexed_df['userId']==user_id).select('title_new_indexed')\n",
    "    \n",
    "    #aliasing the watched movies dataframe as 'b'\n",
    "    b = watched_movies.alias('b')\n",
    "    \n",
    "    #Left joining all the movies for the specified user id \n",
    "    total_movies = a.join(b, a.title_new_indexed == b.title_new_indexed, how = 'left')\n",
    "    \n",
    "    remaining_movies = total_movies.where(col(\"b.title_new_indexed\").isNull()).select(a.title_new_indexed).distinct() \n",
    "    \n",
    "    #adding a new column to remaining movies df of active users\n",
    "    remaining_movies = remaining_movies.withColumn(\"userId\",lit(int(user_id)))\n",
    "    \n",
    "    recommendation = recommender.transform(remaining_movies).orderBy('prediction',ascending =False).limit(n)\n",
    "    \n",
    "    movie_title = IndexToString(inputCol = 'title_new_indexed',outputCol = 'title', labels = model.labels)\n",
    "    final_recommendations = movie_title.transform(recommendation)\n",
    "    \n",
    "    return final_recommendations.show(n,False)\n",
    "    \n",
    "    \n",
    "    "
   ]
  },
  {
   "cell_type": "code",
   "execution_count": 50,
   "id": "0199c514-fddb-4b64-9745-761e3ea77d39",
   "metadata": {},
   "outputs": [
    {
     "name": "stdout",
     "output_type": "stream",
     "text": [
      "+-----------------+------+----------+---------------------------+\n",
      "|title_new_indexed|userId|prediction|title                      |\n",
      "+-----------------+------+----------+---------------------------+\n",
      "|1220.0           |150   |8.406602  |Horse Whisperer, The (1998)|\n",
      "|1173.0           |150   |8.3096    |True Crime (1995)          |\n",
      "|1124.0           |150   |6.777126  |Fresh (1994)               |\n",
      "|845.0            |150   |6.7490425 |Pillow Book, The (1995)    |\n",
      "|1122.0           |150   |6.35596   |Faithful (1996)            |\n",
      "+-----------------+------+----------+---------------------------+\n",
      "\n"
     ]
    }
   ],
   "source": [
    "top_movies(150,5)"
   ]
  },
  {
   "cell_type": "code",
   "execution_count": null,
   "id": "cc98a27a-1a62-464a-8667-a58eee6a4065",
   "metadata": {},
   "outputs": [],
   "source": []
  }
 ],
 "metadata": {
  "kernelspec": {
   "display_name": "Python 3 (ipykernel)",
   "language": "python",
   "name": "python3"
  },
  "language_info": {
   "codemirror_mode": {
    "name": "ipython",
    "version": 3
   },
   "file_extension": ".py",
   "mimetype": "text/x-python",
   "name": "python",
   "nbconvert_exporter": "python",
   "pygments_lexer": "ipython3",
   "version": "3.9.12"
  }
 },
 "nbformat": 4,
 "nbformat_minor": 5
}
